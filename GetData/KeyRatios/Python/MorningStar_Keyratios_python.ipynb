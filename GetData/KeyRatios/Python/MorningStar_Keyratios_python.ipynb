{
 "cells": [
  {
   "cell_type": "code",
   "execution_count": null,
   "metadata": {},
   "outputs": [],
   "source": [
    "from selenium import webdriver\n",
    "import pandas as pd\n",
    "import time"
   ]
  },
  {
   "cell_type": "code",
   "execution_count": null,
   "metadata": {},
   "outputs": [],
   "source": [
    "#read the list of NASDAQ stock codes\n",
    "NASDAQ_list = pd.read_csv(\"NASDAQ_202004.csv\")"
   ]
  },
  {
   "cell_type": "code",
   "execution_count": null,
   "metadata": {},
   "outputs": [],
   "source": [
    "#File download location\n",
    "downloadFolder = 'C:\\\\temp'"
   ]
  },
  {
   "cell_type": "code",
   "execution_count": null,
   "metadata": {},
   "outputs": [],
   "source": [
    "#Webdriver settings\n",
    "profile = webdriver.FirefoxProfile()\n",
    "profile.set_preference('browser.download.folderList', 2) # custom location\n",
    "profile.set_preference('browser.download.manager.showWhenStarting', False)\n",
    "profile.set_preference('browser.download.dir', downloadFolder)\n",
    "profile.set_preference('browser.helperApps.neverAsk.saveToDisk', 'text/html')\n",
    "profile.set_preference(\"browser.helperApps.alwaysAsk.force\", False)\n",
    "profile.set_preference(\"browser.download.manager.useWindow\", False)\n",
    "profile.set_preference(\"browser.download.manager.focusWhenStarting\", False)\n",
    "profile.set_preference(\"browser.helperApps.neverAsk.openFile\", True)"
   ]
  },
  {
   "cell_type": "code",
   "execution_count": null,
   "metadata": {},
   "outputs": [],
   "source": [
    "#Initialize browser\n",
    "opts = webdriver.FirefoxOptions()\n",
    "opts.headless = True\n",
    "browser = webdriver.Firefox(options=opts,firefox_profile=profile)"
   ]
  },
  {
   "cell_type": "code",
   "execution_count": null,
   "metadata": {},
   "outputs": [],
   "source": [
    "#test case\n",
    "stockCode = \"AAPL\"\n",
    "url = \"http://financials.morningstar.com/ratios/r.html?t=\" + stockCode\n",
    "browser.get(url)\n",
    "try:\n",
    "    browser.find_element_by_class_name('large_button').click()\n",
    "except Exception:\n",
    "    print(\"Can't find page for \" +  stockCode)"
   ]
  },
  {
   "cell_type": "code",
   "execution_count": null,
   "metadata": {},
   "outputs": [],
   "source": [
    "#Download in batch\n",
    "def getKeyRatios(code):\n",
    "    stockCode = code\n",
    "    url = \"http://financials.morningstar.com/ratios/r.html?t=\" + stockCode\n",
    "    browser.get(url)\n",
    "    try:\n",
    "        browser.find_element_by_class_name('large_button').click()\n",
    "        #time.sleep(20)\n",
    "    except Exception:\n",
    "        print(\"Can't find page for \" +  stockCode)\n",
    "        time.sleep(1)\n",
    "        #raise"
   ]
  },
  {
   "cell_type": "code",
   "execution_count": null,
   "metadata": {},
   "outputs": [],
   "source": [
    "[getKeyRatios(code) for code in NASDAQ_list.Symbol]"
   ]
  }
 ],
 "metadata": {
  "language_info": {
   "codemirror_mode": {
    "name": "ipython",
    "version": 3
   },
   "file_extension": ".py",
   "mimetype": "text/x-python",
   "name": "python",
   "nbconvert_exporter": "python",
   "pygments_lexer": "ipython3",
   "version": 3
  },
  "orig_nbformat": 2
 },
 "nbformat": 4,
 "nbformat_minor": 2
}